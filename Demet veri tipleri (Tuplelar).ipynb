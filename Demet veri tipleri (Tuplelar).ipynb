{
 "cells": [
  {
   "cell_type": "code",
   "execution_count": 1,
   "id": "1e044b98",
   "metadata": {},
   "outputs": [
    {
     "data": {
      "text/plain": [
       "tuple"
      ]
     },
     "execution_count": 1,
     "metadata": {},
     "output_type": "execute_result"
    }
   ],
   "source": [
    "#tuplelar listelerden farklı olarak değiştirilemez veri tipleridir\n",
    "demet = (1,2,3,4,5,6)\n",
    "type(demet)"
   ]
  },
  {
   "cell_type": "code",
   "execution_count": 2,
   "id": "93c19dda",
   "metadata": {},
   "outputs": [],
   "source": [
    "#tuplelar ın iki fonksiyonu vardır count ve index"
   ]
  },
  {
   "cell_type": "code",
   "execution_count": 7,
   "id": "95202c03",
   "metadata": {},
   "outputs": [],
   "source": [
    "demet = (1,2,3,4,5,6,7)"
   ]
  },
  {
   "cell_type": "code",
   "execution_count": 8,
   "id": "9c3a15b8",
   "metadata": {},
   "outputs": [
    {
     "data": {
      "text/plain": [
       "1"
      ]
     },
     "execution_count": 8,
     "metadata": {},
     "output_type": "execute_result"
    }
   ],
   "source": [
    "demet[0]"
   ]
  },
  {
   "cell_type": "code",
   "execution_count": 9,
   "id": "3fb3d33a",
   "metadata": {},
   "outputs": [
    {
     "data": {
      "text/plain": [
       "6"
      ]
     },
     "execution_count": 9,
     "metadata": {},
     "output_type": "execute_result"
    }
   ],
   "source": [
    "demet[5]"
   ]
  },
  {
   "cell_type": "code",
   "execution_count": 10,
   "id": "a4850128",
   "metadata": {},
   "outputs": [
    {
     "data": {
      "text/plain": [
       "7"
      ]
     },
     "execution_count": 10,
     "metadata": {},
     "output_type": "execute_result"
    }
   ],
   "source": [
    "demet[-1]"
   ]
  },
  {
   "cell_type": "code",
   "execution_count": 11,
   "id": "00cc9f18",
   "metadata": {},
   "outputs": [
    {
     "data": {
      "text/plain": [
       "(7, 6, 5, 4, 3, 2, 1)"
      ]
     },
     "execution_count": 11,
     "metadata": {},
     "output_type": "execute_result"
    }
   ],
   "source": [
    "demet[::-1]"
   ]
  },
  {
   "cell_type": "code",
   "execution_count": 12,
   "id": "b528fa47",
   "metadata": {},
   "outputs": [
    {
     "data": {
      "text/plain": [
       "(1, 2)"
      ]
     },
     "execution_count": 12,
     "metadata": {},
     "output_type": "execute_result"
    }
   ],
   "source": [
    "demet[:2:]"
   ]
  },
  {
   "cell_type": "code",
   "execution_count": 13,
   "id": "ef608563",
   "metadata": {},
   "outputs": [
    {
     "data": {
      "text/plain": [
       "(1, 3, 5, 7)"
      ]
     },
     "execution_count": 13,
     "metadata": {},
     "output_type": "execute_result"
    }
   ],
   "source": [
    "demet[::2]"
   ]
  },
  {
   "cell_type": "code",
   "execution_count": 14,
   "id": "50c6fdb7",
   "metadata": {},
   "outputs": [
    {
     "data": {
      "text/plain": [
       "(3, 4, 5, 6, 7)"
      ]
     },
     "execution_count": 14,
     "metadata": {},
     "output_type": "execute_result"
    }
   ],
   "source": [
    "#demet = (1,2,3,4,5,6,7)\n",
    "demet[2::]"
   ]
  },
  {
   "cell_type": "code",
   "execution_count": 15,
   "id": "b082eef8",
   "metadata": {},
   "outputs": [
    {
     "data": {
      "text/plain": [
       "(2, 4)"
      ]
     },
     "execution_count": 15,
     "metadata": {},
     "output_type": "execute_result"
    }
   ],
   "source": [
    "#a[start:end:step]\n",
    "demet[1:5:2]"
   ]
  },
  {
   "cell_type": "code",
   "execution_count": 16,
   "id": "a4060dbc",
   "metadata": {},
   "outputs": [],
   "source": [
    "#count fonksiyounu içinde kaç tane olduğunu sayıyor"
   ]
  },
  {
   "cell_type": "code",
   "execution_count": 17,
   "id": "dcabf4d1",
   "metadata": {},
   "outputs": [],
   "source": [
    "demet2 = (1,1,1,1,1,1,1,2,2,2,3,3,5)"
   ]
  },
  {
   "cell_type": "code",
   "execution_count": 18,
   "id": "abb77931",
   "metadata": {},
   "outputs": [
    {
     "data": {
      "text/plain": [
       "7"
      ]
     },
     "execution_count": 18,
     "metadata": {},
     "output_type": "execute_result"
    }
   ],
   "source": [
    "demet2.count(1)"
   ]
  },
  {
   "cell_type": "code",
   "execution_count": 19,
   "id": "7e198c8a",
   "metadata": {},
   "outputs": [
    {
     "data": {
      "text/plain": [
       "1"
      ]
     },
     "execution_count": 19,
     "metadata": {},
     "output_type": "execute_result"
    }
   ],
   "source": [
    "demet2.count(5)"
   ]
  },
  {
   "cell_type": "code",
   "execution_count": 20,
   "id": "442bbcf2",
   "metadata": {},
   "outputs": [
    {
     "data": {
      "text/plain": [
       "3"
      ]
     },
     "execution_count": 20,
     "metadata": {},
     "output_type": "execute_result"
    }
   ],
   "source": [
    "demet2.count(2)"
   ]
  },
  {
   "cell_type": "code",
   "execution_count": 21,
   "id": "4365048f",
   "metadata": {},
   "outputs": [],
   "source": [
    "#index: fonksiyonun içindek, sırasını söylüyor"
   ]
  },
  {
   "cell_type": "code",
   "execution_count": 23,
   "id": "7d6a67d8",
   "metadata": {},
   "outputs": [],
   "source": [
    "demet3 = (\"Python\",\"Php\",\"C\",\"Java\",5,4)"
   ]
  },
  {
   "cell_type": "code",
   "execution_count": 24,
   "id": "4bcae007",
   "metadata": {},
   "outputs": [
    {
     "data": {
      "text/plain": [
       "4"
      ]
     },
     "execution_count": 24,
     "metadata": {},
     "output_type": "execute_result"
    }
   ],
   "source": [
    "demet3.index(5)"
   ]
  },
  {
   "cell_type": "code",
   "execution_count": 25,
   "id": "92595583",
   "metadata": {},
   "outputs": [
    {
     "data": {
      "text/plain": [
       "2"
      ]
     },
     "execution_count": 25,
     "metadata": {},
     "output_type": "execute_result"
    }
   ],
   "source": [
    "demet3.index(\"C\")"
   ]
  }
 ],
 "metadata": {
  "kernelspec": {
   "display_name": "Python 3 (ipykernel)",
   "language": "python",
   "name": "python3"
  },
  "language_info": {
   "codemirror_mode": {
    "name": "ipython",
    "version": 3
   },
   "file_extension": ".py",
   "mimetype": "text/x-python",
   "name": "python",
   "nbconvert_exporter": "python",
   "pygments_lexer": "ipython3",
   "version": "3.9.13"
  }
 },
 "nbformat": 4,
 "nbformat_minor": 5
}
