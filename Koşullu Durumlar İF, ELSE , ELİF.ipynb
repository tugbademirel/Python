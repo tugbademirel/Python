{
 "cells": [
  {
   "cell_type": "code",
   "execution_count": 1,
   "id": "b496c247",
   "metadata": {},
   "outputs": [],
   "source": [
    "#python da bir blok tanımlama işlemi GİRİNTİLER sayesinde olur"
   ]
  },
  {
   "cell_type": "code",
   "execution_count": 2,
   "id": "d95682b9",
   "metadata": {},
   "outputs": [
    {
     "name": "stdout",
     "output_type": "stream",
     "text": [
      "Yaşınızı giriniz:17\n",
      "Mekana giremezsiniz!\n"
     ]
    }
   ],
   "source": [
    "yaş = int(input(\"Yaşınızı giriniz:\"))\n",
    "\n",
    "#if ten sonraki iafede true olduğunda kod çalışır\n",
    "\n",
    "if yaş < 18:\n",
    "    print(\"Mekana giremezsiniz!\")"
   ]
  },
  {
   "cell_type": "code",
   "execution_count": 3,
   "id": "c90ec0ff",
   "metadata": {},
   "outputs": [],
   "source": [
    "# else if ifadesi çalışmadıysa : ... gibi kullanılır"
   ]
  },
  {
   "cell_type": "code",
   "execution_count": 4,
   "id": "5b9103cf",
   "metadata": {},
   "outputs": [
    {
     "name": "stdout",
     "output_type": "stream",
     "text": [
      "Yaşınızı giriniz:17\n",
      "Mekana giremezsiniz!\n"
     ]
    }
   ],
   "source": [
    "yaş = int(input(\"Yaşınızı giriniz:\"))\n",
    "\n",
    "#if ten sonraki iafede true olduğunda kod çalışır\n",
    "\n",
    "if yaş < 18:\n",
    "    print(\"Mekana giremezsiniz!\")\n",
    "else:\n",
    "    print(\"Mekana Hoşgeldiniz!\")"
   ]
  },
  {
   "cell_type": "code",
   "execution_count": 5,
   "id": "65a5ca5f",
   "metadata": {},
   "outputs": [
    {
     "name": "stdout",
     "output_type": "stream",
     "text": [
      "Yaşınızı giriniz:19\n",
      "Mekana Hoşgeldiniz!\n"
     ]
    }
   ],
   "source": [
    "yaş = int(input(\"Yaşınızı giriniz:\"))\n",
    "\n",
    "#if ten sonraki iafede true olduğunda kod çalışır\n",
    "\n",
    "if yaş < 18:\n",
    "    print(\"Mekana giremezsiniz!\")\n",
    "else:\n",
    "    print(\"Mekana Hoşgeldiniz!\")"
   ]
  },
  {
   "cell_type": "code",
   "execution_count": 6,
   "id": "4eb638f0",
   "metadata": {},
   "outputs": [
    {
     "name": "stdout",
     "output_type": "stream",
     "text": [
      "Sayı:3\n",
      "Sıfır veya Pozitif Sayı\n"
     ]
    }
   ],
   "source": [
    "sayı = int(input(\"Sayı:\"))\n",
    "\n",
    "if sayı < 0:\n",
    "    print(\"Negatif sayı\")\n",
    "else:\n",
    "    print(\"Sıfır veya Pozitif Sayı\")"
   ]
  },
  {
   "cell_type": "code",
   "execution_count": 8,
   "id": "19e5c13a",
   "metadata": {},
   "outputs": [
    {
     "name": "stdout",
     "output_type": "stream",
     "text": [
      "Sayı:1\n",
      "Sıfır veya Pozitif Sayı\n"
     ]
    }
   ],
   "source": [
    "sayı = int(input(\"Sayı:\"))\n",
    "\n",
    "if sayı < 0:\n",
    "    print(\"Negatif sayı\")\n",
    "else:\n",
    "    print(\"Sıfır veya Pozitif Sayı\")"
   ]
  },
  {
   "cell_type": "code",
   "execution_count": 9,
   "id": "b9fe46e3",
   "metadata": {},
   "outputs": [],
   "source": [
    "# IF ELIF ELSE"
   ]
  },
  {
   "cell_type": "code",
   "execution_count": 14,
   "id": "459a3186",
   "metadata": {},
   "outputs": [
    {
     "name": "stdout",
     "output_type": "stream",
     "text": [
      "İşlem giriniz:8\n",
      "Geçersiz İşlem!\n"
     ]
    }
   ],
   "source": [
    "işlem = input(\"İşlem giriniz:\")\n",
    "\n",
    "if işlem == \"1\":\n",
    "    print(\"İşlem 1 seçildi.\")\n",
    "elif işlem == \"2\":\n",
    "    print(\"İşlem 2 seçildi.\")\n",
    "elif işlem == \"3\":\n",
    "    print(\"İşlem 3 seçildi.\")\n",
    "elif işlem == \"4\":\n",
    "    print(\"İşlem 4 seçildi.\")\n",
    "else:\n",
    "    print(\"Geçersiz İşlem!\")"
   ]
  },
  {
   "cell_type": "code",
   "execution_count": 15,
   "id": "2ea19891",
   "metadata": {},
   "outputs": [
    {
     "ename": "SyntaxError",
     "evalue": "invalid syntax (1887306884.py, line 1)",
     "output_type": "error",
     "traceback": [
      "\u001b[1;36m  File \u001b[1;32m\"C:\\Users\\Toshiba-pc\\AppData\\Local\\Temp\\ipykernel_2740\\1887306884.py\"\u001b[1;36m, line \u001b[1;32m1\u001b[0m\n\u001b[1;33m    else:\u001b[0m\n\u001b[1;37m    ^\u001b[0m\n\u001b[1;31mSyntaxError\u001b[0m\u001b[1;31m:\u001b[0m invalid syntax\n"
     ]
    }
   ],
   "source": [
    "# else - elif tek başına kullanızlmaz\n",
    "else:\n",
    "    print(\"Geçersiz işlem!\")"
   ]
  },
  {
   "cell_type": "code",
   "execution_count": 20,
   "id": "9ec7f91a",
   "metadata": {},
   "outputs": [
    {
     "name": "stdout",
     "output_type": "stream",
     "text": [
      "Notunuzu Giriniz:99\n",
      "AA\n"
     ]
    }
   ],
   "source": [
    "note = float(input(\"Notunuzu Giriniz:\"))\n",
    "\n",
    "if (note >= 90):\n",
    "    print (\"AA\")\n",
    "elif (note >= 85):\n",
    "    print (\"BA\")\n",
    "elif (note >= 80):\n",
    "    print (\"BB\")\n",
    "elif (note >= 75):\n",
    "    print (\"CB\")\n",
    "elif (note >= 70):\n",
    "    print (\"CC\")\n",
    "elif (note >= 65):\n",
    "    print (\"DC\")\n",
    "elif (note >= 60):\n",
    "    print (\"DD\")\n",
    "else: \n",
    "    print(\"Kaldınız.\")\n",
    "    "
   ]
  },
  {
   "cell_type": "code",
   "execution_count": 19,
   "id": "6348f8b1",
   "metadata": {},
   "outputs": [],
   "source": [
    "# elif ve else yukardaki durum sağlanmıyorsa çalışır"
   ]
  }
 ],
 "metadata": {
  "kernelspec": {
   "display_name": "Python 3 (ipykernel)",
   "language": "python",
   "name": "python3"
  },
  "language_info": {
   "codemirror_mode": {
    "name": "ipython",
    "version": 3
   },
   "file_extension": ".py",
   "mimetype": "text/x-python",
   "name": "python",
   "nbconvert_exporter": "python",
   "pygments_lexer": "ipython3",
   "version": "3.9.13"
  }
 },
 "nbformat": 4,
 "nbformat_minor": 5
}
