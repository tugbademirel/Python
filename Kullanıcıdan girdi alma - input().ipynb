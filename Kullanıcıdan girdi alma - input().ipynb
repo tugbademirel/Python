{
 "cells": [
  {
   "cell_type": "code",
   "execution_count": 1,
   "id": "0417e197",
   "metadata": {},
   "outputs": [],
   "source": [
    "#kullanıcıdan girdi almak input()"
   ]
  },
  {
   "cell_type": "code",
   "execution_count": 2,
   "id": "e2b10905",
   "metadata": {},
   "outputs": [
    {
     "name": "stdout",
     "output_type": "stream",
     "text": [
      "25\n"
     ]
    },
    {
     "data": {
      "text/plain": [
       "'25'"
      ]
     },
     "execution_count": 2,
     "metadata": {},
     "output_type": "execute_result"
    }
   ],
   "source": [
    "input()"
   ]
  },
  {
   "cell_type": "code",
   "execution_count": 3,
   "id": "ba82fbc8",
   "metadata": {},
   "outputs": [
    {
     "name": "stdout",
     "output_type": "stream",
     "text": [
      "Lütfen bir sayı giriniz:25\n"
     ]
    },
    {
     "data": {
      "text/plain": [
       "'25'"
      ]
     },
     "execution_count": 3,
     "metadata": {},
     "output_type": "execute_result"
    }
   ],
   "source": [
    "input(\"Lütfen bir sayı giriniz:\")"
   ]
  },
  {
   "cell_type": "code",
   "execution_count": 4,
   "id": "10d64b0d",
   "metadata": {},
   "outputs": [],
   "source": [
    "#kullanıcıdan aldığın değeri kullanmak için bir değişkene atamak gerekir"
   ]
  },
  {
   "cell_type": "code",
   "execution_count": 12,
   "id": "71f22ca1",
   "metadata": {},
   "outputs": [
    {
     "name": "stdout",
     "output_type": "stream",
     "text": [
      "Lütfen bir sayı giriniz:35\n",
      "Kullanıcının girdiği değer 35\n"
     ]
    }
   ],
   "source": [
    "a = input(\"Lütfen bir sayı giriniz:\")\n",
    "print(\"Kullanıcının girdiği değer\",a)"
   ]
  },
  {
   "cell_type": "code",
   "execution_count": null,
   "id": "dbf8895c",
   "metadata": {},
   "outputs": [],
   "source": [
    "f"
   ]
  },
  {
   "cell_type": "code",
   "execution_count": null,
   "id": "66d90195",
   "metadata": {},
   "outputs": [],
   "source": [
    "#int fınksiyonu ile a yı sayıya çevirdik\n",
    "a = int(input(\"Lütfen bir sayı giriniz:\"))\n",
    "print(a*3)"
   ]
  },
  {
   "cell_type": "code",
   "execution_count": 13,
   "id": "70aaf8c6",
   "metadata": {},
   "outputs": [
    {
     "name": "stdout",
     "output_type": "stream",
     "text": [
      "Birinci sayı:35\n",
      "İkinci sayı:10\n",
      "Üçüncü sayı:20\n",
      "Toplamları: 65\n"
     ]
    }
   ],
   "source": [
    "a = int(input(\"Birinci sayı:\"))\n",
    "b = int(input(\"İkinci sayı:\"))\n",
    "c = int(input(\"Üçüncü sayı:\"))\n",
    "print(\"Toplamları:\",a+b+c)"
   ]
  },
  {
   "cell_type": "code",
   "execution_count": 14,
   "id": "8130a741",
   "metadata": {},
   "outputs": [
    {
     "name": "stdout",
     "output_type": "stream",
     "text": [
      "İsminizi girinizTuğba\n"
     ]
    }
   ],
   "source": [
    "isim = input(\"İsminizi giriniz\")"
   ]
  },
  {
   "cell_type": "code",
   "execution_count": 16,
   "id": "3e6f6e7e",
   "metadata": {},
   "outputs": [
    {
     "name": "stdout",
     "output_type": "stream",
     "text": [
      "İsminiz Tuğba\n"
     ]
    }
   ],
   "source": [
    "print(\"İsminiz\",isim)"
   ]
  },
  {
   "cell_type": "code",
   "execution_count": null,
   "id": "8dce60bc",
   "metadata": {},
   "outputs": [],
   "source": []
  }
 ],
 "metadata": {
  "kernelspec": {
   "display_name": "Python 3 (ipykernel)",
   "language": "python",
   "name": "python3"
  },
  "language_info": {
   "codemirror_mode": {
    "name": "ipython",
    "version": 3
   },
   "file_extension": ".py",
   "mimetype": "text/x-python",
   "name": "python",
   "nbconvert_exporter": "python",
   "pygments_lexer": "ipython3",
   "version": "3.9.13"
  }
 },
 "nbformat": 4,
 "nbformat_minor": 5
}
