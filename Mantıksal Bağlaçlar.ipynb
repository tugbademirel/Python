{
 "cells": [
  {
   "cell_type": "code",
   "execution_count": 1,
   "id": "58484e5a",
   "metadata": {},
   "outputs": [],
   "source": [
    "#karşılaştırma işlemini kontrol ederken kullanılır"
   ]
  },
  {
   "cell_type": "code",
   "execution_count": 2,
   "id": "92df43c5",
   "metadata": {},
   "outputs": [],
   "source": [
    "# and operatörü"
   ]
  },
  {
   "cell_type": "code",
   "execution_count": 3,
   "id": "87a24b27",
   "metadata": {},
   "outputs": [
    {
     "data": {
      "text/plain": [
       "True"
      ]
     },
     "execution_count": 3,
     "metadata": {},
     "output_type": "execute_result"
    }
   ],
   "source": [
    "1 < 2"
   ]
  },
  {
   "cell_type": "code",
   "execution_count": 4,
   "id": "39681c91",
   "metadata": {},
   "outputs": [
    {
     "data": {
      "text/plain": [
       "True"
      ]
     },
     "execution_count": 4,
     "metadata": {},
     "output_type": "execute_result"
    }
   ],
   "source": [
    "\"Murat\" == \"Murat\""
   ]
  },
  {
   "cell_type": "code",
   "execution_count": 6,
   "id": "fd054c2c",
   "metadata": {},
   "outputs": [
    {
     "data": {
      "text/plain": [
       "True"
      ]
     },
     "execution_count": 6,
     "metadata": {},
     "output_type": "execute_result"
    }
   ],
   "source": [
    "1<2 and \"Murat\" == \"Murat\""
   ]
  },
  {
   "cell_type": "code",
   "execution_count": 7,
   "id": "dd98f832",
   "metadata": {},
   "outputs": [
    {
     "data": {
      "text/plain": [
       "False"
      ]
     },
     "execution_count": 7,
     "metadata": {},
     "output_type": "execute_result"
    }
   ],
   "source": [
    "1 > 2 and \"Murat\" == \"Murat\""
   ]
  },
  {
   "cell_type": "code",
   "execution_count": 8,
   "id": "8c208507",
   "metadata": {},
   "outputs": [],
   "source": [
    "#false olmasının nedeni iki işlemden biri yanlışsa sonuç false çıkar"
   ]
  },
  {
   "cell_type": "code",
   "execution_count": 9,
   "id": "9c673639",
   "metadata": {},
   "outputs": [
    {
     "data": {
      "text/plain": [
       "True"
      ]
     },
     "execution_count": 9,
     "metadata": {},
     "output_type": "execute_result"
    }
   ],
   "source": [
    "1 < 2 and \"Araba\" < \"Zula\" and 4.32 < 5.41"
   ]
  },
  {
   "cell_type": "code",
   "execution_count": 10,
   "id": "14099944",
   "metadata": {},
   "outputs": [
    {
     "data": {
      "text/plain": [
       "False"
      ]
     },
     "execution_count": 10,
     "metadata": {},
     "output_type": "execute_result"
    }
   ],
   "source": [
    "1 < 2 and \"Araba\" > \"Zula\" and 4.32 < 5.41"
   ]
  },
  {
   "cell_type": "code",
   "execution_count": 11,
   "id": "312e2180",
   "metadata": {},
   "outputs": [
    {
     "data": {
      "text/plain": [
       "False"
      ]
     },
     "execution_count": 11,
     "metadata": {},
     "output_type": "execute_result"
    }
   ],
   "source": [
    "1 > 2 and \"Araba\" < \"Zula\" and 4.32 < 5.41"
   ]
  },
  {
   "cell_type": "code",
   "execution_count": 12,
   "id": "16aeed12",
   "metadata": {},
   "outputs": [],
   "source": [
    "# AND ile bağlanan da paython baştan tek tek bakıyor false çıktığında false diyor"
   ]
  },
  {
   "cell_type": "code",
   "execution_count": 13,
   "id": "916cbc4a",
   "metadata": {},
   "outputs": [],
   "source": [
    "# OR operatörü"
   ]
  },
  {
   "cell_type": "code",
   "execution_count": 14,
   "id": "b8e3d93e",
   "metadata": {},
   "outputs": [],
   "source": [
    "#genel sonucun false çıkması için hepsi false olmalı ya da tam tersi"
   ]
  },
  {
   "cell_type": "code",
   "execution_count": 15,
   "id": "ac589808",
   "metadata": {},
   "outputs": [
    {
     "data": {
      "text/plain": [
       "True"
      ]
     },
     "execution_count": 15,
     "metadata": {},
     "output_type": "execute_result"
    }
   ],
   "source": [
    "1 < 2 or \"Murat\" == \"Murat\""
   ]
  },
  {
   "cell_type": "code",
   "execution_count": 16,
   "id": "e657bf5c",
   "metadata": {},
   "outputs": [
    {
     "data": {
      "text/plain": [
       "False"
      ]
     },
     "execution_count": 16,
     "metadata": {},
     "output_type": "execute_result"
    }
   ],
   "source": [
    "1 > 2 or \"Murat\" != \"Murat\""
   ]
  },
  {
   "cell_type": "code",
   "execution_count": 17,
   "id": "e6563fe6",
   "metadata": {},
   "outputs": [
    {
     "data": {
      "text/plain": [
       "True"
      ]
     },
     "execution_count": 17,
     "metadata": {},
     "output_type": "execute_result"
    }
   ],
   "source": [
    "1 > 2 or \"Araba\" < \"Zula\" or 4.32 > 5.41"
   ]
  },
  {
   "cell_type": "code",
   "execution_count": 18,
   "id": "d8f54f5f",
   "metadata": {},
   "outputs": [
    {
     "data": {
      "text/plain": [
       "True"
      ]
     },
     "execution_count": 18,
     "metadata": {},
     "output_type": "execute_result"
    }
   ],
   "source": [
    "1 > 2 or \"Araba\" < \"Zula\" or 4.32 > 5.41"
   ]
  },
  {
   "cell_type": "code",
   "execution_count": 19,
   "id": "aa3a588d",
   "metadata": {},
   "outputs": [],
   "source": [
    "#not operatörü\n",
    "#bir işlemin sonucu true ise false false ise true yapar"
   ]
  },
  {
   "cell_type": "code",
   "execution_count": 20,
   "id": "b8664988",
   "metadata": {},
   "outputs": [
    {
     "data": {
      "text/plain": [
       "False"
      ]
     },
     "execution_count": 20,
     "metadata": {},
     "output_type": "execute_result"
    }
   ],
   "source": [
    "not 2 == 2"
   ]
  },
  {
   "cell_type": "code",
   "execution_count": 22,
   "id": "9f9f712a",
   "metadata": {},
   "outputs": [
    {
     "data": {
      "text/plain": [
       "True"
      ]
     },
     "execution_count": 22,
     "metadata": {},
     "output_type": "execute_result"
    }
   ],
   "source": [
    "not 2 == 4"
   ]
  },
  {
   "cell_type": "code",
   "execution_count": 23,
   "id": "f06b2057",
   "metadata": {},
   "outputs": [
    {
     "data": {
      "text/plain": [
       "True"
      ]
     },
     "execution_count": 23,
     "metadata": {},
     "output_type": "execute_result"
    }
   ],
   "source": [
    "not (2.14 > 3.49 or (2 != 2 and \"Murat\" == \"Murat\"))"
   ]
  },
  {
   "cell_type": "code",
   "execution_count": 24,
   "id": "a60ff3a7",
   "metadata": {},
   "outputs": [
    {
     "data": {
      "text/plain": [
       "True"
      ]
     },
     "execution_count": 24,
     "metadata": {},
     "output_type": "execute_result"
    }
   ],
   "source": [
    "\"Araba\" < \"Zula\" and (\"Bebek\" < \"Çocuk\" or (not 14))"
   ]
  },
  {
   "cell_type": "code",
   "execution_count": null,
   "id": "687f44b0",
   "metadata": {},
   "outputs": [],
   "source": []
  }
 ],
 "metadata": {
  "kernelspec": {
   "display_name": "Python 3 (ipykernel)",
   "language": "python",
   "name": "python3"
  },
  "language_info": {
   "codemirror_mode": {
    "name": "ipython",
    "version": 3
   },
   "file_extension": ".py",
   "mimetype": "text/x-python",
   "name": "python",
   "nbconvert_exporter": "python",
   "pygments_lexer": "ipython3",
   "version": "3.9.13"
  }
 },
 "nbformat": 4,
 "nbformat_minor": 5
}
