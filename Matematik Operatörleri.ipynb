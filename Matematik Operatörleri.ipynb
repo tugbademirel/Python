{
 "cells": [
  {
   "cell_type": "code",
   "execution_count": 1,
   "id": "97746806",
   "metadata": {},
   "outputs": [
    {
     "data": {
      "text/plain": [
       "133"
      ]
     },
     "execution_count": 1,
     "metadata": {},
     "output_type": "execute_result"
    }
   ],
   "source": [
    "k = 34\n",
    "l = 45\n",
    "m = 54\n",
    "k + l + m"
   ]
  },
  {
   "cell_type": "code",
   "execution_count": 2,
   "id": "77cd42a7",
   "metadata": {},
   "outputs": [
    {
     "data": {
      "text/plain": [
       "-11"
      ]
     },
     "execution_count": 2,
     "metadata": {},
     "output_type": "execute_result"
    }
   ],
   "source": [
    "k - l"
   ]
  },
  {
   "cell_type": "code",
   "execution_count": 3,
   "id": "0ec5e1b7",
   "metadata": {},
   "outputs": [
    {
     "data": {
      "text/plain": [
       "82620"
      ]
     },
     "execution_count": 3,
     "metadata": {},
     "output_type": "execute_result"
    }
   ],
   "source": [
    "k * l * m"
   ]
  },
  {
   "cell_type": "code",
   "execution_count": 4,
   "id": "e9434405",
   "metadata": {},
   "outputs": [
    {
     "data": {
      "text/plain": [
       "0.7555555555555555"
      ]
     },
     "execution_count": 4,
     "metadata": {},
     "output_type": "execute_result"
    }
   ],
   "source": [
    "k / l"
   ]
  },
  {
   "cell_type": "code",
   "execution_count": 5,
   "id": "41b97170",
   "metadata": {},
   "outputs": [
    {
     "data": {
      "text/plain": [
       "9.583333333333334"
      ]
     },
     "execution_count": 5,
     "metadata": {},
     "output_type": "execute_result"
    }
   ],
   "source": [
    "a = 345\n",
    "b = 36\n",
    "a / b"
   ]
  },
  {
   "cell_type": "code",
   "execution_count": 6,
   "id": "ce6bd6c6",
   "metadata": {},
   "outputs": [
    {
     "data": {
      "text/plain": [
       "9"
      ]
     },
     "execution_count": 6,
     "metadata": {},
     "output_type": "execute_result"
    }
   ],
   "source": [
    "a // b"
   ]
  },
  {
   "cell_type": "code",
   "execution_count": 7,
   "id": "585834bf",
   "metadata": {},
   "outputs": [
    {
     "data": {
      "text/plain": [
       "1.9912280701754386"
      ]
     },
     "execution_count": 7,
     "metadata": {},
     "output_type": "execute_result"
    }
   ],
   "source": [
    "22.7 / 11.4"
   ]
  },
  {
   "cell_type": "code",
   "execution_count": 8,
   "id": "2a9c8b75",
   "metadata": {},
   "outputs": [
    {
     "data": {
      "text/plain": [
       "1.0"
      ]
     },
     "execution_count": 8,
     "metadata": {},
     "output_type": "execute_result"
    }
   ],
   "source": [
    "22.7 // 11.4"
   ]
  },
  {
   "cell_type": "code",
   "execution_count": 9,
   "id": "b0fe31e3",
   "metadata": {},
   "outputs": [
    {
     "data": {
      "text/plain": [
       "1"
      ]
     },
     "execution_count": 9,
     "metadata": {},
     "output_type": "execute_result"
    }
   ],
   "source": [
    "13 % 4"
   ]
  },
  {
   "cell_type": "code",
   "execution_count": 10,
   "id": "b902feee",
   "metadata": {},
   "outputs": [
    {
     "data": {
      "text/plain": [
       "0"
      ]
     },
     "execution_count": 10,
     "metadata": {},
     "output_type": "execute_result"
    }
   ],
   "source": [
    "20 % 5"
   ]
  },
  {
   "cell_type": "code",
   "execution_count": 11,
   "id": "f03a57ae",
   "metadata": {},
   "outputs": [
    {
     "data": {
      "text/plain": [
       "11.299999999999999"
      ]
     },
     "execution_count": 11,
     "metadata": {},
     "output_type": "execute_result"
    }
   ],
   "source": [
    "22.7 % 11.4"
   ]
  },
  {
   "cell_type": "code",
   "execution_count": 12,
   "id": "2fbf7703",
   "metadata": {},
   "outputs": [
    {
     "data": {
      "text/plain": [
       "0"
      ]
     },
     "execution_count": 12,
     "metadata": {},
     "output_type": "execute_result"
    }
   ],
   "source": [
    "4 % 2"
   ]
  },
  {
   "cell_type": "code",
   "execution_count": 13,
   "id": "4a27a02c",
   "metadata": {},
   "outputs": [
    {
     "data": {
      "text/plain": [
       "1"
      ]
     },
     "execution_count": 13,
     "metadata": {},
     "output_type": "execute_result"
    }
   ],
   "source": [
    "5 % 2"
   ]
  },
  {
   "cell_type": "code",
   "execution_count": 14,
   "id": "ceb529d0",
   "metadata": {},
   "outputs": [
    {
     "data": {
      "text/plain": [
       "1"
      ]
     },
     "execution_count": 14,
     "metadata": {},
     "output_type": "execute_result"
    }
   ],
   "source": [
    "13 % 6"
   ]
  },
  {
   "cell_type": "code",
   "execution_count": 15,
   "id": "9467af28",
   "metadata": {},
   "outputs": [
    {
     "data": {
      "text/plain": [
       "3"
      ]
     },
     "execution_count": 15,
     "metadata": {},
     "output_type": "execute_result"
    }
   ],
   "source": [
    "15 % 4"
   ]
  },
  {
   "cell_type": "code",
   "execution_count": 16,
   "id": "634500a7",
   "metadata": {},
   "outputs": [
    {
     "data": {
      "text/plain": [
       "16"
      ]
     },
     "execution_count": 16,
     "metadata": {},
     "output_type": "execute_result"
    }
   ],
   "source": [
    "2 ** 4"
   ]
  },
  {
   "cell_type": "code",
   "execution_count": 17,
   "id": "923b68b1",
   "metadata": {},
   "outputs": [
    {
     "data": {
      "text/plain": [
       "25"
      ]
     },
     "execution_count": 17,
     "metadata": {},
     "output_type": "execute_result"
    }
   ],
   "source": [
    "5 ** 2"
   ]
  },
  {
   "cell_type": "code",
   "execution_count": 18,
   "id": "48db1510",
   "metadata": {},
   "outputs": [
    {
     "data": {
      "text/plain": [
       "729"
      ]
     },
     "execution_count": 18,
     "metadata": {},
     "output_type": "execute_result"
    }
   ],
   "source": [
    "3 ** 6"
   ]
  },
  {
   "cell_type": "code",
   "execution_count": 19,
   "id": "1140202d",
   "metadata": {},
   "outputs": [
    {
     "data": {
      "text/plain": [
       "991035916125874083964008999"
      ]
     },
     "execution_count": 19,
     "metadata": {},
     "output_type": "execute_result"
    }
   ],
   "source": [
    "999 ** 9"
   ]
  },
  {
   "cell_type": "code",
   "execution_count": 25,
   "id": "72f25cbf",
   "metadata": {},
   "outputs": [
    {
     "data": {
      "text/plain": [
       "-4"
      ]
     },
     "execution_count": 25,
     "metadata": {},
     "output_type": "execute_result"
    }
   ],
   "source": [
    " a = 4\n",
    "-a"
   ]
  },
  {
   "cell_type": "code",
   "execution_count": 26,
   "id": "50aea8dd",
   "metadata": {},
   "outputs": [
    {
     "data": {
      "text/plain": [
       "-4.0"
      ]
     },
     "execution_count": 26,
     "metadata": {},
     "output_type": "execute_result"
    }
   ],
   "source": [
    "8 + 4 * 3 / 2 - 18"
   ]
  },
  {
   "cell_type": "code",
   "execution_count": 27,
   "id": "3fff620c",
   "metadata": {},
   "outputs": [
    {
     "data": {
      "text/plain": [
       "-4.0"
      ]
     },
     "execution_count": 27,
     "metadata": {},
     "output_type": "execute_result"
    }
   ],
   "source": [
    "# parantez her zaman önce yapılır\n",
    "8 + ((4*3) /2) - 18"
   ]
  },
  {
   "cell_type": "code",
   "execution_count": null,
   "id": "d3230a34",
   "metadata": {},
   "outputs": [],
   "source": []
  }
 ],
 "metadata": {
  "kernelspec": {
   "display_name": "Python 3 (ipykernel)",
   "language": "python",
   "name": "python3"
  },
  "language_info": {
   "codemirror_mode": {
    "name": "ipython",
    "version": 3
   },
   "file_extension": ".py",
   "mimetype": "text/x-python",
   "name": "python",
   "nbconvert_exporter": "python",
   "pygments_lexer": "ipython3",
   "version": "3.9.13"
  }
 },
 "nbformat": 4,
 "nbformat_minor": 5
}
