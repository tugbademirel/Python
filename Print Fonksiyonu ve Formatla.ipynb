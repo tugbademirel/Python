{
 "cells": [
  {
   "cell_type": "code",
   "execution_count": 2,
   "id": "f6da7062",
   "metadata": {},
   "outputs": [
    {
     "name": "stdout",
     "output_type": "stream",
     "text": [
      "35\n"
     ]
    }
   ],
   "source": [
    "#ekrana değer bastırmak için print kullanılır\n",
    "print(35)"
   ]
  },
  {
   "cell_type": "code",
   "execution_count": 3,
   "id": "5874ef05",
   "metadata": {},
   "outputs": [
    {
     "name": "stdout",
     "output_type": "stream",
     "text": [
      "Murat\n"
     ]
    }
   ],
   "source": [
    "print(\"Murat\")"
   ]
  },
  {
   "cell_type": "code",
   "execution_count": 5,
   "id": "a3deb5ba",
   "metadata": {},
   "outputs": [
    {
     "data": {
      "text/plain": [
       "'Murat'"
      ]
     },
     "execution_count": 5,
     "metadata": {},
     "output_type": "execute_result"
    }
   ],
   "source": [
    "\"Murat\""
   ]
  },
  {
   "cell_type": "code",
   "execution_count": 6,
   "id": "9641c200",
   "metadata": {},
   "outputs": [
    {
     "name": "stdout",
     "output_type": "stream",
     "text": [
      "19\n"
     ]
    }
   ],
   "source": [
    "a = 4\n",
    "b = 15\n",
    "print(a+b)"
   ]
  },
  {
   "cell_type": "code",
   "execution_count": 7,
   "id": "a88705ca",
   "metadata": {},
   "outputs": [
    {
     "name": "stdout",
     "output_type": "stream",
     "text": [
      "35 4 54 Merhaba Python\n"
     ]
    }
   ],
   "source": [
    "print(35,4,54,\"Merhaba\",\"Python\")"
   ]
  },
  {
   "cell_type": "code",
   "execution_count": 8,
   "id": "e90d776b",
   "metadata": {},
   "outputs": [
    {
     "name": "stdout",
     "output_type": "stream",
     "text": [
      "Mustafa Murat\n"
     ]
    }
   ],
   "source": [
    "print (\"Mustafa\",\"Murat\")"
   ]
  },
  {
   "cell_type": "code",
   "execution_count": 11,
   "id": "673b7b25",
   "metadata": {},
   "outputs": [
    {
     "name": "stdout",
     "output_type": "stream",
     "text": [
      "Merhaba\n",
      "Nasılsın\n",
      "İyi misin?\n"
     ]
    }
   ],
   "source": [
    "# \\n  alt satıra geçer\n",
    "print(\"Merhaba\\nNasılsın\\nİyi misin?\")"
   ]
  },
  {
   "cell_type": "code",
   "execution_count": 12,
   "id": "de3cf67f",
   "metadata": {},
   "outputs": [
    {
     "name": "stdout",
     "output_type": "stream",
     "text": [
      "Merhaba\tİyi misin\n"
     ]
    }
   ],
   "source": [
    "#\\t arada boşluk verir\n",
    "print(\"Merhaba\\tİyi misin\")"
   ]
  },
  {
   "cell_type": "code",
   "execution_count": 13,
   "id": "e98d9796",
   "metadata": {},
   "outputs": [
    {
     "name": "stdout",
     "output_type": "stream",
     "text": [
      "a\t\t\t\tb\n"
     ]
    }
   ],
   "source": [
    "print(\"a \\t \\t \\t \\t b\")"
   ]
  },
  {
   "cell_type": "code",
   "execution_count": 14,
   "id": "6bf446d7",
   "metadata": {},
   "outputs": [
    {
     "name": "stdout",
     "output_type": "stream",
     "text": [
      "Ocak\tŞubat\tMart\n"
     ]
    }
   ],
   "source": [
    "print (\"Ocak \\t Şubat \\t Mart\")"
   ]
  },
  {
   "cell_type": "code",
   "execution_count": 15,
   "id": "9e93d657",
   "metadata": {},
   "outputs": [
    {
     "data": {
      "text/plain": [
       "int"
      ]
     },
     "execution_count": 15,
     "metadata": {},
     "output_type": "execute_result"
    }
   ],
   "source": [
    "#type() içine yazılan değerin hangi veri tipinde olduğunu söyler\n",
    "type(123)"
   ]
  },
  {
   "cell_type": "code",
   "execution_count": 16,
   "id": "915917ae",
   "metadata": {},
   "outputs": [
    {
     "data": {
      "text/plain": [
       "float"
      ]
     },
     "execution_count": 16,
     "metadata": {},
     "output_type": "execute_result"
    }
   ],
   "source": [
    "type(1.2200)"
   ]
  },
  {
   "cell_type": "code",
   "execution_count": 17,
   "id": "5f60d0a0",
   "metadata": {},
   "outputs": [
    {
     "ename": "NameError",
     "evalue": "name 'murat' is not defined",
     "output_type": "error",
     "traceback": [
      "\u001b[1;31m---------------------------------------------------------------------------\u001b[0m",
      "\u001b[1;31mNameError\u001b[0m                                 Traceback (most recent call last)",
      "\u001b[1;32m~\\AppData\\Local\\Temp\\ipykernel_3608\\3332580688.py\u001b[0m in \u001b[0;36m<module>\u001b[1;34m\u001b[0m\n\u001b[1;32m----> 1\u001b[1;33m \u001b[0mtype\u001b[0m\u001b[1;33m(\u001b[0m\u001b[0mmurat\u001b[0m\u001b[1;33m)\u001b[0m\u001b[1;33m\u001b[0m\u001b[1;33m\u001b[0m\u001b[0m\n\u001b[0m",
      "\u001b[1;31mNameError\u001b[0m: name 'murat' is not defined"
     ]
    }
   ],
   "source": [
    "type(murat)"
   ]
  },
  {
   "cell_type": "code",
   "execution_count": 18,
   "id": "704bee88",
   "metadata": {},
   "outputs": [
    {
     "data": {
      "text/plain": [
       "str"
      ]
     },
     "execution_count": 18,
     "metadata": {},
     "output_type": "execute_result"
    }
   ],
   "source": [
    "type(\"murat\")"
   ]
  },
  {
   "cell_type": "code",
   "execution_count": 19,
   "id": "65c46445",
   "metadata": {},
   "outputs": [
    {
     "name": "stdout",
     "output_type": "stream",
     "text": [
      "35 43 54\n"
     ]
    }
   ],
   "source": [
    "print(35,43,54)"
   ]
  },
  {
   "cell_type": "code",
   "execution_count": 20,
   "id": "96b5b4d5",
   "metadata": {},
   "outputs": [
    {
     "name": "stdout",
     "output_type": "stream",
     "text": [
      "35/43/54\n"
     ]
    }
   ],
   "source": [
    "print(35,43,54,sep = \"/\")"
   ]
  },
  {
   "cell_type": "code",
   "execution_count": 23,
   "id": "871527b6",
   "metadata": {},
   "outputs": [
    {
     "name": "stdout",
     "output_type": "stream",
     "text": [
      "Tuğba\n",
      "Ahmet\n"
     ]
    }
   ],
   "source": [
    "print(\"Tuğba\",\"Ahmet\", sep= \"\\n\")"
   ]
  },
  {
   "cell_type": "code",
   "execution_count": 24,
   "id": "17271389",
   "metadata": {},
   "outputs": [
    {
     "name": "stdout",
     "output_type": "stream",
     "text": [
      "P y t h o n\n"
     ]
    }
   ],
   "source": [
    "print(*\"Python\")"
   ]
  },
  {
   "cell_type": "code",
   "execution_count": 25,
   "id": "14dda4b9",
   "metadata": {},
   "outputs": [
    {
     "name": "stdout",
     "output_type": "stream",
     "text": [
      "T.B.M.M\n"
     ]
    }
   ],
   "source": [
    "print (\"T\",\"B\",\"M\",\"M\", sep= \".\")"
   ]
  },
  {
   "cell_type": "code",
   "execution_count": 26,
   "id": "db61bc2d",
   "metadata": {},
   "outputs": [],
   "source": [
    "# pyformat.info"
   ]
  },
  {
   "cell_type": "code",
   "execution_count": null,
   "id": "934317e2",
   "metadata": {},
   "outputs": [],
   "source": []
  }
 ],
 "metadata": {
  "kernelspec": {
   "display_name": "Python 3 (ipykernel)",
   "language": "python",
   "name": "python3"
  },
  "language_info": {
   "codemirror_mode": {
    "name": "ipython",
    "version": 3
   },
   "file_extension": ".py",
   "mimetype": "text/x-python",
   "name": "python",
   "nbconvert_exporter": "python",
   "pygments_lexer": "ipython3",
   "version": "3.9.13"
  }
 },
 "nbformat": 4,
 "nbformat_minor": 5
}
