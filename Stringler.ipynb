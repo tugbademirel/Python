{
 "cells": [
  {
   "cell_type": "code",
   "execution_count": 1,
   "id": "5f8ada8a",
   "metadata": {},
   "outputs": [
    {
     "data": {
      "text/plain": [
       "'Tuğba'"
      ]
     },
     "execution_count": 1,
     "metadata": {},
     "output_type": "execute_result"
    }
   ],
   "source": [
    "\"Tuğba\""
   ]
  },
  {
   "cell_type": "code",
   "execution_count": 3,
   "id": "a1cfa3bf",
   "metadata": {},
   "outputs": [
    {
     "data": {
      "text/plain": [
       "'Merhaba'"
      ]
     },
     "execution_count": 3,
     "metadata": {},
     "output_type": "execute_result"
    }
   ],
   "source": [
    "'''Merhaba'''"
   ]
  },
  {
   "cell_type": "code",
   "execution_count": 4,
   "id": "600c942f",
   "metadata": {},
   "outputs": [
    {
     "ename": "SyntaxError",
     "evalue": "invalid syntax (2875104245.py, line 1)",
     "output_type": "error",
     "traceback": [
      "\u001b[1;36m  File \u001b[1;32m\"C:\\Users\\Toshiba-pc\\AppData\\Local\\Temp\\ipykernel_3372\\2875104245.py\"\u001b[1;36m, line \u001b[1;32m1\u001b[0m\n\u001b[1;33m    'Murat'ın bugün dersi var'\u001b[0m\n\u001b[1;37m           ^\u001b[0m\n\u001b[1;31mSyntaxError\u001b[0m\u001b[1;31m:\u001b[0m invalid syntax\n"
     ]
    }
   ],
   "source": [
    "'Murat'ın bugün dersi var'"
   ]
  },
  {
   "cell_type": "code",
   "execution_count": 5,
   "id": "8f89ed08",
   "metadata": {},
   "outputs": [
    {
     "data": {
      "text/plain": [
       "\"Murat'ın bugün dersi var.\""
      ]
     },
     "execution_count": 5,
     "metadata": {},
     "output_type": "execute_result"
    }
   ],
   "source": [
    "\"Murat'ın bugün dersi var.\""
   ]
  },
  {
   "cell_type": "code",
   "execution_count": 6,
   "id": "242bad95",
   "metadata": {},
   "outputs": [
    {
     "data": {
      "text/plain": [
       "\"Murat'ın bugün dersi var\""
      ]
     },
     "execution_count": 6,
     "metadata": {},
     "output_type": "execute_result"
    }
   ],
   "source": [
    "#ters slaş burada kaçış dizisi, çok kullanılmıyor tırnağı bitiş tırnağı olarak algılamaması için\n",
    "'Murat\\'ın bugün dersi var'"
   ]
  },
  {
   "cell_type": "code",
   "execution_count": 8,
   "id": "5a727fed",
   "metadata": {},
   "outputs": [
    {
     "data": {
      "text/plain": [
       "'merhaba'"
      ]
     },
     "execution_count": 8,
     "metadata": {},
     "output_type": "execute_result"
    }
   ],
   "source": [
    "#değişkene string atama\n",
    "a = \"merhaba\"\n",
    "a"
   ]
  },
  {
   "cell_type": "code",
   "execution_count": 9,
   "id": "d201880f",
   "metadata": {},
   "outputs": [
    {
     "data": {
      "text/plain": [
       "'h'"
      ]
     },
     "execution_count": 9,
     "metadata": {},
     "output_type": "execute_result"
    }
   ],
   "source": [
    "# 0 dan başlayarak sayıyor m0 e1 r2 gibi\n",
    "a = \"merhaba\"\n",
    "a[3]"
   ]
  },
  {
   "cell_type": "code",
   "execution_count": 10,
   "id": "4326de7c",
   "metadata": {},
   "outputs": [
    {
     "data": {
      "text/plain": [
       "'b'"
      ]
     },
     "execution_count": 10,
     "metadata": {},
     "output_type": "execute_result"
    }
   ],
   "source": [
    "a[5]"
   ]
  },
  {
   "cell_type": "code",
   "execution_count": 11,
   "id": "782aa4c1",
   "metadata": {},
   "outputs": [],
   "source": [
    "#stringleri tersten saydırmak için\n",
    "a= \"murat\""
   ]
  },
  {
   "cell_type": "code",
   "execution_count": 12,
   "id": "aad40b92",
   "metadata": {},
   "outputs": [
    {
     "data": {
      "text/plain": [
       "'t'"
      ]
     },
     "execution_count": 12,
     "metadata": {},
     "output_type": "execute_result"
    }
   ],
   "source": [
    "a[-1]"
   ]
  },
  {
   "cell_type": "code",
   "execution_count": 13,
   "id": "ebd2c989",
   "metadata": {},
   "outputs": [
    {
     "data": {
      "text/plain": [
       "'on Pro'"
      ]
     },
     "execution_count": 13,
     "metadata": {},
     "output_type": "execute_result"
    }
   ],
   "source": [
    "#formül [başlama indeksi: bitiş indeksi : atlama değeri]\n",
    "a = \"Python Programlama Dili\"\n",
    "a[4:10]"
   ]
  },
  {
   "cell_type": "code",
   "execution_count": 14,
   "id": "18101242",
   "metadata": {},
   "outputs": [
    {
     "data": {
      "text/plain": [
       "'Python Pro'"
      ]
     },
     "execution_count": 14,
     "metadata": {},
     "output_type": "execute_result"
    }
   ],
   "source": [
    "a[:10]"
   ]
  },
  {
   "cell_type": "code",
   "execution_count": 15,
   "id": "df2878ef",
   "metadata": {},
   "outputs": [
    {
     "data": {
      "text/plain": [
       "'on Programlama Dili'"
      ]
     },
     "execution_count": 15,
     "metadata": {},
     "output_type": "execute_result"
    }
   ],
   "source": [
    "#bitiş indeksi vermedik\n",
    "a[4:]"
   ]
  },
  {
   "cell_type": "code",
   "execution_count": 16,
   "id": "a3c2c32a",
   "metadata": {},
   "outputs": [
    {
     "data": {
      "text/plain": [
       "'Python Programlama Dili'"
      ]
     },
     "execution_count": 16,
     "metadata": {},
     "output_type": "execute_result"
    }
   ],
   "source": [
    "#bütün indeksi alır\n",
    "a[:]"
   ]
  },
  {
   "cell_type": "code",
   "execution_count": 17,
   "id": "e876bcce",
   "metadata": {},
   "outputs": [
    {
     "data": {
      "text/plain": [
       "'Python Programlama Dil'"
      ]
     },
     "execution_count": 17,
     "metadata": {},
     "output_type": "execute_result"
    }
   ],
   "source": [
    "#sondan bir harf keser\n",
    "a[: -1]"
   ]
  },
  {
   "cell_type": "code",
   "execution_count": 18,
   "id": "df4127e9",
   "metadata": {},
   "outputs": [
    {
     "data": {
      "text/plain": [
       "'Pto rgalm ii'"
      ]
     },
     "execution_count": 18,
     "metadata": {},
     "output_type": "execute_result"
    }
   ],
   "source": [
    "#başlama bitiş endeksi vermedik atlama değeri verdik\n",
    "#atlamada, iki iki atlayarak stringi parçalar\n",
    "a[::2]"
   ]
  },
  {
   "cell_type": "code",
   "execution_count": 19,
   "id": "e2cc1654",
   "metadata": {},
   "outputs": [
    {
     "data": {
      "text/plain": [
       "'Ph oaa l'"
      ]
     },
     "execution_count": 19,
     "metadata": {},
     "output_type": "execute_result"
    }
   ],
   "source": [
    "a[::3]"
   ]
  },
  {
   "cell_type": "code",
   "execution_count": 20,
   "id": "64953b0e",
   "metadata": {},
   "outputs": [
    {
     "data": {
      "text/plain": [
       "'o rg'"
      ]
     },
     "execution_count": 20,
     "metadata": {},
     "output_type": "execute_result"
    }
   ],
   "source": [
    "#4.İNDEKSTEN BAŞLA 12.ye kadar git, iki iki parçalayarak git\n",
    "a[4:12:2]"
   ]
  },
  {
   "cell_type": "code",
   "execution_count": 21,
   "id": "5b26f9a7",
   "metadata": {},
   "outputs": [
    {
     "data": {
      "text/plain": [
       "'iliD amalmargorP nohtyP'"
      ]
     },
     "execution_count": 21,
     "metadata": {},
     "output_type": "execute_result"
    }
   ],
   "source": [
    "#stringi tersten parçalar\n",
    "a[::-1]"
   ]
  },
  {
   "cell_type": "code",
   "execution_count": 22,
   "id": "e3a446c0",
   "metadata": {},
   "outputs": [],
   "source": [
    "#String uzunluğu bulma\n",
    "string = \"Merhaba\""
   ]
  },
  {
   "cell_type": "code",
   "execution_count": 23,
   "id": "3b44ba4a",
   "metadata": {},
   "outputs": [
    {
     "data": {
      "text/plain": [
       "7"
      ]
     },
     "execution_count": 23,
     "metadata": {},
     "output_type": "execute_result"
    }
   ],
   "source": [
    "#len string uzunluğunu buluyor\n",
    "len(string)"
   ]
  },
  {
   "cell_type": "code",
   "execution_count": 24,
   "id": "84091f13",
   "metadata": {},
   "outputs": [],
   "source": [
    "string = \"Merhaba\""
   ]
  },
  {
   "cell_type": "code",
   "execution_count": 25,
   "id": "197786e1",
   "metadata": {},
   "outputs": [
    {
     "ename": "TypeError",
     "evalue": "'str' object does not support item assignment",
     "output_type": "error",
     "traceback": [
      "\u001b[1;31m---------------------------------------------------------------------------\u001b[0m",
      "\u001b[1;31mTypeError\u001b[0m                                 Traceback (most recent call last)",
      "\u001b[1;32m~\\AppData\\Local\\Temp\\ipykernel_3372\\2882779659.py\u001b[0m in \u001b[0;36m<module>\u001b[1;34m\u001b[0m\n\u001b[1;32m----> 1\u001b[1;33m \u001b[0mstring\u001b[0m\u001b[1;33m[\u001b[0m\u001b[1;36m3\u001b[0m\u001b[1;33m]\u001b[0m \u001b[1;33m=\u001b[0m \u001b[1;34m't'\u001b[0m\u001b[1;33m\u001b[0m\u001b[1;33m\u001b[0m\u001b[0m\n\u001b[0m",
      "\u001b[1;31mTypeError\u001b[0m: 'str' object does not support item assignment"
     ]
    }
   ],
   "source": [
    "#stringler direk olarak değiştirilemiyor\n",
    "string[3] = 't'"
   ]
  },
  {
   "cell_type": "code",
   "execution_count": 26,
   "id": "47e9e953",
   "metadata": {},
   "outputs": [
    {
     "data": {
      "text/plain": [
       "'PythonProgramlamaDili'"
      ]
     },
     "execution_count": 26,
     "metadata": {},
     "output_type": "execute_result"
    }
   ],
   "source": [
    "#stringler toplanabiliyor\n",
    "a = \"Python\"\n",
    "b = \"Programlama\"\n",
    "c = \"Dili\"\n",
    "a + b + c"
   ]
  },
  {
   "cell_type": "code",
   "execution_count": 27,
   "id": "7adb8b50",
   "metadata": {},
   "outputs": [
    {
     "data": {
      "text/plain": [
       "'PythonPythonPython'"
      ]
     },
     "execution_count": 27,
     "metadata": {},
     "output_type": "execute_result"
    }
   ],
   "source": [
    "\"Python\" * 3"
   ]
  },
  {
   "cell_type": "code",
   "execution_count": 30,
   "id": "17fd1ef9",
   "metadata": {},
   "outputs": [
    {
     "data": {
      "text/plain": [
       "'MustafaMurat Coşkun'"
      ]
     },
     "execution_count": 30,
     "metadata": {},
     "output_type": "execute_result"
    }
   ],
   "source": [
    "a = \"Mustafa\"\n",
    "a = a + \"Murat Coşkun\"\n",
    "a"
   ]
  },
  {
   "cell_type": "code",
   "execution_count": null,
   "id": "d1531ffa",
   "metadata": {},
   "outputs": [],
   "source": []
  }
 ],
 "metadata": {
  "kernelspec": {
   "display_name": "Python 3 (ipykernel)",
   "language": "python",
   "name": "python3"
  },
  "language_info": {
   "codemirror_mode": {
    "name": "ipython",
    "version": 3
   },
   "file_extension": ".py",
   "mimetype": "text/x-python",
   "name": "python",
   "nbconvert_exporter": "python",
   "pygments_lexer": "ipython3",
   "version": "3.9.13"
  }
 },
 "nbformat": 4,
 "nbformat_minor": 5
}
