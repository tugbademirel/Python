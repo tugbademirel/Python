{
 "cells": [
  {
   "cell_type": "code",
   "execution_count": 1,
   "id": "d159588a",
   "metadata": {},
   "outputs": [],
   "source": [
    "#sözlükler diğer veri tiplerinden farklı\n",
    "#sözcükleirn içinde her bir eleman indeks ile değil, anahtar(key),değer(value) olarak tutulur"
   ]
  },
  {
   "cell_type": "code",
   "execution_count": 2,
   "id": "f5ed5bd9",
   "metadata": {},
   "outputs": [],
   "source": [
    "#anahtar \"bir\": değer 1\n",
    "sözlük1 = {\"bir\":1,\"iki\":2,\"üç\":3,\"dört\":4}"
   ]
  },
  {
   "cell_type": "code",
   "execution_count": 3,
   "id": "af40747a",
   "metadata": {},
   "outputs": [
    {
     "data": {
      "text/plain": [
       "dict"
      ]
     },
     "execution_count": 3,
     "metadata": {},
     "output_type": "execute_result"
    }
   ],
   "source": [
    "type(sözlük1)"
   ]
  },
  {
   "cell_type": "code",
   "execution_count": 4,
   "id": "4dc3b183",
   "metadata": {},
   "outputs": [],
   "source": [
    "sözlük2 = {}"
   ]
  },
  {
   "cell_type": "code",
   "execution_count": 5,
   "id": "03100520",
   "metadata": {},
   "outputs": [
    {
     "data": {
      "text/plain": [
       "{}"
      ]
     },
     "execution_count": 5,
     "metadata": {},
     "output_type": "execute_result"
    }
   ],
   "source": [
    "sözlük2 "
   ]
  },
  {
   "cell_type": "code",
   "execution_count": 6,
   "id": "f90bea5e",
   "metadata": {},
   "outputs": [],
   "source": [
    "sözlük2 = dict()"
   ]
  },
  {
   "cell_type": "code",
   "execution_count": 7,
   "id": "f2cd83e4",
   "metadata": {},
   "outputs": [
    {
     "data": {
      "text/plain": [
       "{}"
      ]
     },
     "execution_count": 7,
     "metadata": {},
     "output_type": "execute_result"
    }
   ],
   "source": [
    "sözlük2"
   ]
  },
  {
   "cell_type": "code",
   "execution_count": 8,
   "id": "e74649ef",
   "metadata": {},
   "outputs": [],
   "source": [
    "#sözlüketeki değere erişmek"
   ]
  },
  {
   "cell_type": "code",
   "execution_count": 9,
   "id": "4d9d2a38",
   "metadata": {},
   "outputs": [
    {
     "data": {
      "text/plain": [
       "{'bir': 1, 'iki': 2, 'üç': 3, 'dört': 4}"
      ]
     },
     "execution_count": 9,
     "metadata": {},
     "output_type": "execute_result"
    }
   ],
   "source": [
    "sözlük1"
   ]
  },
  {
   "cell_type": "code",
   "execution_count": 10,
   "id": "409c5c1e",
   "metadata": {},
   "outputs": [
    {
     "data": {
      "text/plain": [
       "1"
      ]
     },
     "execution_count": 10,
     "metadata": {},
     "output_type": "execute_result"
    }
   ],
   "source": [
    "sözlük1[\"bir\"]"
   ]
  },
  {
   "cell_type": "code",
   "execution_count": 14,
   "id": "a78b6903",
   "metadata": {},
   "outputs": [
    {
     "data": {
      "text/plain": [
       "4"
      ]
     },
     "execution_count": 14,
     "metadata": {},
     "output_type": "execute_result"
    }
   ],
   "source": [
    "sözlük1[\"dört\"]"
   ]
  },
  {
   "cell_type": "code",
   "execution_count": 15,
   "id": "3d111031",
   "metadata": {},
   "outputs": [
    {
     "ename": "KeyError",
     "evalue": "5",
     "output_type": "error",
     "traceback": [
      "\u001b[1;31m---------------------------------------------------------------------------\u001b[0m",
      "\u001b[1;31mKeyError\u001b[0m                                  Traceback (most recent call last)",
      "\u001b[1;32m~\\AppData\\Local\\Temp\\ipykernel_1752\\4260253607.py\u001b[0m in \u001b[0;36m<module>\u001b[1;34m\u001b[0m\n\u001b[1;32m----> 1\u001b[1;33m \u001b[0msözlük1\u001b[0m\u001b[1;33m[\u001b[0m\u001b[1;36m5\u001b[0m\u001b[1;33m]\u001b[0m\u001b[1;33m\u001b[0m\u001b[1;33m\u001b[0m\u001b[0m\n\u001b[0m",
      "\u001b[1;31mKeyError\u001b[0m: 5"
     ]
    }
   ],
   "source": [
    "sözlük1[5]"
   ]
  },
  {
   "cell_type": "code",
   "execution_count": 11,
   "id": "8341f0cf",
   "metadata": {},
   "outputs": [],
   "source": [
    "#sözlüğe dinamik olarak eleman ekleme\n"
   ]
  },
  {
   "cell_type": "code",
   "execution_count": 16,
   "id": "1e5bc7c1",
   "metadata": {},
   "outputs": [],
   "source": [
    "sözlük1[\"beş\"] = 5"
   ]
  },
  {
   "cell_type": "code",
   "execution_count": 17,
   "id": "9ef52a0d",
   "metadata": {},
   "outputs": [
    {
     "data": {
      "text/plain": [
       "{'bir': 1, 'iki': 2, 'üç': 3, 'dört': 4, 'beş': 5}"
      ]
     },
     "execution_count": 17,
     "metadata": {},
     "output_type": "execute_result"
    }
   ],
   "source": [
    "sözlük1"
   ]
  },
  {
   "cell_type": "code",
   "execution_count": 13,
   "id": "329ed075",
   "metadata": {},
   "outputs": [],
   "source": [
    "#sözlükte sıra önemli değil sözlüklerin içine index ile erişmiyoruz, anahtar kelimelerle erişiyoruz"
   ]
  },
  {
   "cell_type": "code",
   "execution_count": 18,
   "id": "6b9ccbb4",
   "metadata": {},
   "outputs": [],
   "source": [
    "a = {\"bir\": [1,2,3,4], \"iki\":[[1,2],[3,4],[5,6]], \"üç\" :15}"
   ]
  },
  {
   "cell_type": "code",
   "execution_count": 19,
   "id": "22bcecf9",
   "metadata": {},
   "outputs": [
    {
     "data": {
      "text/plain": [
       "[[1, 2], [3, 4], [5, 6]]"
      ]
     },
     "execution_count": 19,
     "metadata": {},
     "output_type": "execute_result"
    }
   ],
   "source": [
    "a[\"iki\"]"
   ]
  },
  {
   "cell_type": "code",
   "execution_count": 20,
   "id": "ef355191",
   "metadata": {},
   "outputs": [
    {
     "data": {
      "text/plain": [
       "[3, 4]"
      ]
     },
     "execution_count": 20,
     "metadata": {},
     "output_type": "execute_result"
    }
   ],
   "source": [
    "a[\"iki\"][1]"
   ]
  },
  {
   "cell_type": "code",
   "execution_count": 21,
   "id": "553bd702",
   "metadata": {},
   "outputs": [
    {
     "data": {
      "text/plain": [
       "4"
      ]
     },
     "execution_count": 21,
     "metadata": {},
     "output_type": "execute_result"
    }
   ],
   "source": [
    "a[\"iki\"][1][1]"
   ]
  },
  {
   "cell_type": "code",
   "execution_count": null,
   "id": "4b34b4b8",
   "metadata": {},
   "outputs": [],
   "source": [
    "#sözlük içindeki bir değeri değiştirme; önce sözlüğe ulaş sonra başka değer ata"
   ]
  },
  {
   "cell_type": "code",
   "execution_count": 22,
   "id": "12a22a54",
   "metadata": {},
   "outputs": [
    {
     "data": {
      "text/plain": [
       "{'bir': 1, 'iki': 2, 'üç': 3, 'dört': 4, 'beş': 5}"
      ]
     },
     "execution_count": 22,
     "metadata": {},
     "output_type": "execute_result"
    }
   ],
   "source": [
    "sözlük1"
   ]
  },
  {
   "cell_type": "code",
   "execution_count": 23,
   "id": "c1faf87d",
   "metadata": {},
   "outputs": [],
   "source": [
    "sözlük1[\"beş\"] = 10"
   ]
  },
  {
   "cell_type": "code",
   "execution_count": 24,
   "id": "6d40cd8f",
   "metadata": {},
   "outputs": [
    {
     "data": {
      "text/plain": [
       "{'bir': 1, 'iki': 2, 'üç': 3, 'dört': 4, 'beş': 10}"
      ]
     },
     "execution_count": 24,
     "metadata": {},
     "output_type": "execute_result"
    }
   ],
   "source": [
    "sözlük1"
   ]
  },
  {
   "cell_type": "code",
   "execution_count": 25,
   "id": "9853b78a",
   "metadata": {},
   "outputs": [],
   "source": [
    "sözlük1[\"beş\"] +=1"
   ]
  },
  {
   "cell_type": "code",
   "execution_count": 26,
   "id": "b1f3c333",
   "metadata": {},
   "outputs": [
    {
     "data": {
      "text/plain": [
       "11"
      ]
     },
     "execution_count": 26,
     "metadata": {},
     "output_type": "execute_result"
    }
   ],
   "source": [
    "sözlük1[\"beş\"]"
   ]
  },
  {
   "cell_type": "code",
   "execution_count": 35,
   "id": "fae51864",
   "metadata": {},
   "outputs": [],
   "source": [
    "a = {\"sayılar\":{\"bir\":1,\"iki\":2,\"üç\":3},\"meyveler\":{\"kiraz\":\"yaz\",\"portakal\":\"kış\",\"erik\":\"yaz\"}}"
   ]
  },
  {
   "cell_type": "code",
   "execution_count": 36,
   "id": "1dfb4db7",
   "metadata": {},
   "outputs": [
    {
     "data": {
      "text/plain": [
       "{'bir': 1, 'iki': 2, 'üç': 3}"
      ]
     },
     "execution_count": 36,
     "metadata": {},
     "output_type": "execute_result"
    }
   ],
   "source": [
    "a[\"sayılar\"]"
   ]
  },
  {
   "cell_type": "code",
   "execution_count": 37,
   "id": "ac634dad",
   "metadata": {},
   "outputs": [
    {
     "data": {
      "text/plain": [
       "2"
      ]
     },
     "execution_count": 37,
     "metadata": {},
     "output_type": "execute_result"
    }
   ],
   "source": [
    "a[\"sayılar\"][\"iki\"]"
   ]
  },
  {
   "cell_type": "code",
   "execution_count": 40,
   "id": "5020ef97",
   "metadata": {},
   "outputs": [
    {
     "data": {
      "text/plain": [
       "{'kiraz': 'yaz', 'portakal': 'kış', 'erik': 'yaz'}"
      ]
     },
     "execution_count": 40,
     "metadata": {},
     "output_type": "execute_result"
    }
   ],
   "source": [
    "a[\"meyveler\"]"
   ]
  },
  {
   "cell_type": "code",
   "execution_count": 41,
   "id": "a6e3299d",
   "metadata": {},
   "outputs": [
    {
     "data": {
      "text/plain": [
       "'yaz'"
      ]
     },
     "execution_count": 41,
     "metadata": {},
     "output_type": "execute_result"
    }
   ],
   "source": [
    "a[\"meyveler\"][\"kiraz\"]"
   ]
  },
  {
   "cell_type": "code",
   "execution_count": 42,
   "id": "7fe618a9",
   "metadata": {},
   "outputs": [],
   "source": [
    "#temel sözlük metodları"
   ]
  },
  {
   "cell_type": "code",
   "execution_count": 46,
   "id": "749381ee",
   "metadata": {},
   "outputs": [
    {
     "data": {
      "text/plain": [
       "{'bir': 1, 'iki': 2, 'üç': 3, 'dört': 4, 'beş': 11}"
      ]
     },
     "execution_count": 46,
     "metadata": {},
     "output_type": "execute_result"
    }
   ],
   "source": [
    "sözlük1"
   ]
  },
  {
   "cell_type": "code",
   "execution_count": 47,
   "id": "97f0ab0b",
   "metadata": {},
   "outputs": [],
   "source": [
    " #sözlük1 deki sadece anahtarları almak için"
   ]
  },
  {
   "cell_type": "code",
   "execution_count": 49,
   "id": "6f980891",
   "metadata": {},
   "outputs": [
    {
     "data": {
      "text/plain": [
       "dict_keys(['bir', 'iki', 'üç', 'dört', 'beş'])"
      ]
     },
     "execution_count": 49,
     "metadata": {},
     "output_type": "execute_result"
    }
   ],
   "source": [
    "sözlük1.keys()"
   ]
  },
  {
   "cell_type": "code",
   "execution_count": null,
   "id": "a623de23",
   "metadata": {},
   "outputs": [],
   "source": [
    "#sadece değerleri almak için"
   ]
  },
  {
   "cell_type": "code",
   "execution_count": 50,
   "id": "b18624d1",
   "metadata": {},
   "outputs": [
    {
     "data": {
      "text/plain": [
       "dict_values([1, 2, 3, 4, 11])"
      ]
     },
     "execution_count": 50,
     "metadata": {},
     "output_type": "execute_result"
    }
   ],
   "source": [
    "sözlük1.values()"
   ]
  },
  {
   "cell_type": "code",
   "execution_count": 51,
   "id": "f8ab1123",
   "metadata": {},
   "outputs": [
    {
     "data": {
      "text/plain": [
       "dict_items([('bir', 1), ('iki', 2), ('üç', 3), ('dört', 4), ('beş', 11)])"
      ]
     },
     "execution_count": 51,
     "metadata": {},
     "output_type": "execute_result"
    }
   ],
   "source": [
    "#sözlük içinde demet olurşturuyor\n",
    "sözlük1.items()"
   ]
  },
  {
   "cell_type": "code",
   "execution_count": 52,
   "id": "57eefe0e",
   "metadata": {},
   "outputs": [
    {
     "name": "stdout",
     "output_type": "stream",
     "text": [
      "bir 1\n",
      "iki 2\n",
      "üç 3\n",
      "dört 4\n",
      "beş 11\n"
     ]
    }
   ],
   "source": [
    "for k,v in sözlük1.items():\n",
    "    print(k,v)"
   ]
  },
  {
   "cell_type": "code",
   "execution_count": null,
   "id": "db138c87",
   "metadata": {},
   "outputs": [],
   "source": []
  }
 ],
 "metadata": {
  "kernelspec": {
   "display_name": "Python 3 (ipykernel)",
   "language": "python",
   "name": "python3"
  },
  "language_info": {
   "codemirror_mode": {
    "name": "ipython",
    "version": 3
   },
   "file_extension": ".py",
   "mimetype": "text/x-python",
   "name": "python",
   "nbconvert_exporter": "python",
   "pygments_lexer": "ipython3",
   "version": "3.9.13"
  }
 },
 "nbformat": 4,
 "nbformat_minor": 5
}
